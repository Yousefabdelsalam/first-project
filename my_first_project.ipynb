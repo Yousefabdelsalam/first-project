{
 "cells": [
  {
   "cell_type": "code",
   "execution_count": 1,
   "id": "439611c0-3c21-4a92-82b3-a74456975534",
   "metadata": {},
   "outputs": [],
   "source": [
    "import random"
   ]
  },
  {
   "cell_type": "code",
   "execution_count": 3,
   "id": "6df5280b-f01e-4ed3-9b65-8ad7c809f5a2",
   "metadata": {},
   "outputs": [
    {
     "name": "stdin",
     "output_type": "stream",
     "text": [
      "Enter the minimum range number  1\n",
      "Enter the maximum range number  10\n",
      "Enter the guess numebr that you want to guess  2\n"
     ]
    },
    {
     "name": "stdout",
     "output_type": "stream",
     "text": [
      "Try again, you guessd too Low\n"
     ]
    },
    {
     "name": "stdin",
     "output_type": "stream",
     "text": [
      "Enter the guess numebr that you want to guess  1\n"
     ]
    },
    {
     "name": "stdout",
     "output_type": "stream",
     "text": [
      "Try again, you guessd too Low\n"
     ]
    },
    {
     "name": "stdin",
     "output_type": "stream",
     "text": [
      "Enter the guess numebr that you want to guess  5\n"
     ]
    },
    {
     "name": "stdout",
     "output_type": "stream",
     "text": [
      "Try again, you guessed too High\n"
     ]
    },
    {
     "name": "stdin",
     "output_type": "stream",
     "text": [
      "Enter the guess numebr that you want to guess  3\n"
     ]
    },
    {
     "name": "stdout",
     "output_type": "stream",
     "text": [
      "Congratulations!\n",
      "You guessed correct the numebr \n",
      "Do you want to play again !\n",
      "Yes -- No\n"
     ]
    },
    {
     "name": "stdin",
     "output_type": "stream",
     "text": [
      "Enter Yes or No No\n"
     ]
    },
    {
     "name": "stdout",
     "output_type": "stream",
     "text": [
      "Thank you for plaing this Game !\n"
     ]
    }
   ],
   "source": [
    "while True:\n",
    "    min_num = int(input(\"Enter the minimum range number \"))\n",
    "    max_num = int(input(\"Enter the maximum range number \"))\n",
    "    rand_num = random.randint(min_num,max_num)\n",
    "    max_guess = (max_num - min_num) // 2\n",
    "    while max_guess > 0:\n",
    "        guess = int(input(\"Enter the guess numebr that you want to guess \"))\n",
    "        if guess > rand_num:\n",
    "            print(\"Try again, you guessed too High\")\n",
    "            max_guess-=1\n",
    "        elif guess < rand_num:\n",
    "            print(\"Try again, you guessd too Low\")\n",
    "            max_guess-=1\n",
    "        elif guess == rand_num:\n",
    "            print(\"Congratulations!\")\n",
    "            print(\"You guessed correct the numebr \")\n",
    "            break\n",
    "    if max_guess == 0:\n",
    "        print(\"Better Luck Next Time!\")\n",
    "        print(f\"The numebr is {rand_num}\")    \n",
    "    print(\"Do you want to play again !\")\n",
    "    print(\"Yes -- No\")\n",
    "    again = input(\"Enter Yes or No\")\n",
    "    if again == \"No\":\n",
    "        print(\"Thank you for plaing this Game !\")\n",
    "        break"
   ]
  },
  {
   "cell_type": "code",
   "execution_count": null,
   "id": "33e2792e-5b7c-4add-be96-2a268a8d43bc",
   "metadata": {},
   "outputs": [],
   "source": []
  }
 ],
 "metadata": {
  "kernelspec": {
   "display_name": "Python 3 (ipykernel)",
   "language": "python",
   "name": "python3"
  },
  "language_info": {
   "codemirror_mode": {
    "name": "ipython",
    "version": 3
   },
   "file_extension": ".py",
   "mimetype": "text/x-python",
   "name": "python",
   "nbconvert_exporter": "python",
   "pygments_lexer": "ipython3",
   "version": "3.12.4"
  }
 },
 "nbformat": 4,
 "nbformat_minor": 5
}
